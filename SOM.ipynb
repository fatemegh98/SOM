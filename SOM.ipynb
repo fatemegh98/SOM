{
 "cells": [
  {
   "cell_type": "code",
   "execution_count": 49,
   "metadata": {},
   "outputs": [],
   "source": [
    "from PIL import Image\n",
    "from collections import defaultdict, Counter\n",
    "import numpy as np\n",
    "import pandas as pd\n",
    "import glob\n",
    "import math\n",
    "from matplotlib import cm, pyplot as plt\n",
    "from matplotlib.collections import RegularPolyCollection\n",
    "from mpl_toolkits.axes_grid1 import make_axes_locatable\n",
    "import tensorflow as tf\n",
    "from tensorflow import keras\n",
    "import numpy as np\n",
    "import pandas as pd\n",
    "from sklearn.model_selection import train_test_split\n",
    "from sklearn.preprocessing import LabelEncoder\n",
    "from sklearn.preprocessing import MinMaxScaler\n",
    "from matplotlib import pyplot\n",
    "from sklearn.preprocessing import LabelBinarizer\n",
    "from sklearn.metrics import confusion_matrix\n",
    "from datetime import datetime\n",
    "import io\n",
    "import itertools\n",
    "from packaging import version\n",
    "from six.moves import range\n",
    "import matplotlib.pyplot as plt\n",
    "import sklearn.metrics\n",
    "from sklearn.model_selection import train_test_split"
   ]
  },
  {
   "cell_type": "markdown",
   "metadata": {},
   "source": [
    "# prepare dataset"
   ]
  },
  {
   "cell_type": "code",
   "execution_count": 2,
   "metadata": {},
   "outputs": [],
   "source": [
    "def build_dataset():\n",
    "    org_dataset = []\n",
    "    label_list = []\n",
    "    for i in range(1, 16):\n",
    "        filelist = glob.glob('yalefaces/subject'+str(i).zfill(2)+\"*\")\n",
    "        for fname in filelist:\n",
    "            img = np.array(Image.open(fname))\n",
    "            img = img.reshape(img.shape[0]*img.shape[1])\n",
    "            org_dataset.append(img)\n",
    "            label_list.append(fname[20:])\n",
    "    org_dataset = np.array(org_dataset)\n",
    "    \n",
    "    return org_dataset,label_list\n",
    "\n",
    "org_dataset,labels = build_dataset()\n",
    "num_components = len(org_dataset)"
   ]
  },
  {
   "cell_type": "markdown",
   "metadata": {},
   "source": [
    "# SOM implmentation"
   ]
  },
  {
   "cell_type": "code",
   "execution_count": 293,
   "metadata": {},
   "outputs": [],
   "source": [
    "class SOM(object):\n",
    "\n",
    "    def __init__(self, map_size, lr=1, radius=10, type_neighber_fun=\"gaussian_neighber\", not_load=True):\n",
    "        \n",
    "        self.map = np.random.random(size = (map_size[0], map_size[1], map_size[2]))*255 if not_load else None\n",
    "        #np.random.seed(42)\n",
    "        self.lr0 = lr\n",
    "        self.lr = self.lr0\n",
    "\n",
    "        self.R0 = radius\n",
    "        self.R = self.R0\n",
    "        \n",
    "        self.type_neighber_fun = type_neighber_fun\n",
    "\n",
    "    def train(self, X, T=1000):\n",
    "        \n",
    "        Js = []\n",
    "        for t in range(T):\n",
    "            prev_map = self.map\n",
    "            shuffle_ind = np.random.randint(low = 0, high = len(X), size = len(X))\n",
    "                \n",
    "            for i in range(len(X)):\n",
    "                x = X[shuffle_ind[i], :]\n",
    "\n",
    "                winner = self.find_winner(x)\n",
    "                \n",
    "                if self.type_neighber_fun == \"no_neighber\":\n",
    "                    NS = 0\n",
    "                else:\n",
    "                    NS = self.get_NS2(winner)\n",
    "                \n",
    "                       \n",
    "                self.update_weights(x, NS, len(X))\n",
    "\n",
    "                \n",
    "            #self.lr = self.lr0 * (1 - t/T)\n",
    "            #self.R = self.R0 * (1 - t/T)\n",
    "            \n",
    "            self.lr = self.lr0 * np.exp(-t/T)\n",
    "            self.R = self.R0 * np.exp(-t/T)\n",
    "            \n",
    "            new_map = np.linalg.norm(prev_map - self.map)\n",
    "            Js.append(new_map)\n",
    "            \n",
    "            if t % 1 == 0:\n",
    "                print(\"Itration: %d, LR: %f, R: %f, J: %f\" %(t, self.lr, self.R, Js[-1]))\n",
    "\n",
    "        return Js\n",
    "\n",
    "\n",
    "    def find_winner(self, x):\n",
    "        rep_x = np.tile(x, [self.map.shape[0], self.map.shape[1], 1])\n",
    "        dists = np.sum((self.map - rep_x)**2, axis = 2)\n",
    "        winner = np.unravel_index(np.argmin(dists, axis = None), dists.shape)\n",
    "        return winner\n",
    "\n",
    "    \n",
    "    #plus neighberhood\n",
    "    def get_NS(self, winner):\n",
    "        NS = np.zeros(shape = (self.map.shape[0], self.map.shape[1]))\n",
    "        iw, jw = winner[0], winner[1]\n",
    "\n",
    "        NS[iw, jw] = 1\n",
    "\n",
    "        for r in range(1, int(self.R)):\n",
    "\n",
    "            if iw - r >= 0:\n",
    "                NS[iw - r, jw] = self.gaussian_update_NS(self.dist_win(winner, (iw - r, jw)), r) if self.type_neighber_fun == \"gaussian_neighber\" else 1/r\n",
    "            if iw + r < self.map.shape[0] - 1:\n",
    "                NS[iw + r, jw] = self.gaussian_update_NS(self.dist_win(winner, (iw + r, jw)), r) if self.type_neighber_fun == \"gaussian_neighber\" else 1/r\n",
    "            \n",
    "            if jw - r >= 0:\n",
    "                NS[iw, jw - r] = self.gaussian_update_NS(self.dist_win(winner, (iw, jw - r)), r) if self.type_neighber_fun == \"gaussian_neighber\" else 1/r\n",
    "            if jw + r < self.map.shape[1] - 1:\n",
    "                NS[iw, jw + r] = self.gaussian_update_NS(self.dist_win(winner, (iw, jw + r)), r) if self.type_neighber_fun == \"gaussian_neighber\" else 1/r\n",
    "\n",
    "        return NS\n",
    "    \n",
    "    def gaussian_update_NS(self, dist_win, r):\n",
    "        return np.exp(- np.square(dist_win) / 2 * np.square(r))\n",
    "    \n",
    "    #gaussian neighberhood\n",
    "    def get_NS3(self, winner):\n",
    "        \n",
    "        win_matrix = np.tile(winner, (self.map.shape[0] * self.map.shape[1], 1))\n",
    "        map_neuron = []\n",
    "        \n",
    "        for i in range(self.map.shape[0]):\n",
    "            for j in range(self.map.shape[1]):\n",
    "                map_neuron.append(np.array([i, j]))\n",
    "        \n",
    "        map_neuron = np.array(map_neuron)\n",
    "        dists_neurons = np.array(np.sum(np.square(win_matrix - map_neuron), 1)).reshape(self.map.shape[0], self.map.shape[1])\n",
    "                \n",
    "        return np.exp(- np.square(dists_neurons) / (2 * np.square(self.R)))\n",
    "    \n",
    "    #circle neighberhood\n",
    "    def get_NS2(self, winner):\n",
    "        NS = np.zeros(shape = (self.map.shape[0], self.map.shape[1]))\n",
    "        iw, jw = winner[0], winner[1]\n",
    "        \n",
    "        NS[iw, jw] = 1\n",
    "        \n",
    "        R = int(self.R)\n",
    "        for ri in range(-R, R):\n",
    "            for rj in range(-R, R):\n",
    "                if(0 <= iw + ri < self.map.shape[0]) and(0 <= jw + rj < self.map.shape[1]):\n",
    "                    NS[iw + ri, jw + rj] = 0 if np.sqrt(np.square(ri) + np.square(rj)) > R else self.gaussian_update_NS(self.dist_win(winner, (iw + rj, jw + rj)), ri) if self.type_neighber_fun == \"gaussian_neighber\" else np.sqrt(np.square(ri) + np.square(rj))\n",
    "                    #self.gaussian_update_NS(self.dist_win(winner, (iw + rj, jw + rj)), ri) \n",
    "                    \n",
    "        return NS\n",
    "                        \n",
    "    def dist_win(self, winner, neuron):\n",
    "        return np.sum(np.square(np.array(winner) - np.array(neuron)))\n",
    "\n",
    "    def update_weights(self, x, n_strength, X_len):\n",
    "\n",
    "        NS = np.tile(n_strength, [self.map.shape[2], 1, 1]).transpose()\n",
    "        rep_x = np.tile(x, [self.map.shape[0], self.map.shape[1], 1])\n",
    "        Delta = rep_x - self.map\n",
    "        \n",
    "        if self.type_neighber_fun == \"no_neighber\":\n",
    "            self.map = self.map + (self.lr / X_len) * Delta\n",
    "        else:\n",
    "            self.map = self.map + (self.lr / X_len) * np.multiply(NS, Delta)\n",
    "        \n",
    "        \n",
    "    def feature_extraction(self, x):\n",
    "        rep_x = np.tile(x, [self.map.shape[0], self.map.shape[1], 1])\n",
    "        dists = np.sum((self.map - rep_x)**2, axis = 2)\n",
    "        return 1 / (1 + dists)\n",
    "    \n",
    "\n",
    "        return NS\n",
    "    \n",
    "    def labels_map(self, data, labels):\n",
    "        \n",
    "        winmap = defaultdict(list)\n",
    "        print(winmap)\n",
    "        for x, l in zip(data, labels):\n",
    "            winmap[tuple(self.find_winner(x))].append(l)\n",
    "        for position in winmap:\n",
    "            winmap[position] = Counter(winmap[position])\n",
    "        return winmap\n",
    "    \n",
    "    def purity(self, data, label):\n",
    "        \n",
    "        purit_matrix = np.zeros(shape = (self.map.shape[0], self.map.shape[1]))\n",
    "        labels_map = self.labels_map(data, label)\n",
    "        label_names = np.unique(label)\n",
    "\n",
    "        total = []\n",
    "        for position in labels_map.keys():\n",
    "            label_fracs = [labels_map[position][l] for l in label_names]\n",
    "            total.append(label_fracs)\n",
    "            \n",
    "            \n",
    "        for i, position in enumerate(labels_map.keys()):\n",
    "\n",
    "            p_x, p_y = position[0], position[1]\n",
    "            purit_matrix[p_x][p_y] = max(total[i]) / sum(total[i])\n",
    "            \n",
    "    \n",
    "        return ((np.sum(purit_matrix)) / (len(labels_map.keys()))) , ((self.map.shape[0]*self.map.shape[1]) - len(labels_map.keys()))\n",
    "    \n",
    "    \n",
    "    def get_weights(self):\n",
    "        return self.map\n",
    "    \n",
    "    def visualize(self, X, y):\n",
    "        pass\n",
    "    \n",
    "    def distance_map(self):\n",
    "        \n",
    "        we = self.get_weights()\n",
    "        um = np.zeros((we.shape[0], we.shape[1]))\n",
    "        it = np.nditer(um, flags=['multi_index'])\n",
    "        while not it.finished:\n",
    "            for ii in range(it.multi_index[0]-1, it.multi_index[0]+2):\n",
    "                for jj in range(it.multi_index[1]-1, it.multi_index[1]+2):\n",
    "                    if (ii >= 0 and ii < we.shape[0] and\n",
    "                            jj >= 0 and jj < we.shape[1]):\n",
    "                        w_1 = we[ii, jj, :]\n",
    "                        w_2 = we[it.multi_index]\n",
    "                        w_f = w_1 - w_2\n",
    "                        um[it.multi_index] += np.sqrt(np.dot(w_f, w_f.T))\n",
    "            it.iternext()\n",
    "        um = um/um.max()\n",
    "        return um\n",
    "    \n",
    "    def load_weights(self, weights):\n",
    "        self.map = weights\n",
    "    "
   ]
  },
  {
   "cell_type": "markdown",
   "metadata": {},
   "source": [
    "# Question 3"
   ]
  },
  {
   "cell_type": "code",
   "execution_count": 356,
   "metadata": {
    "scrolled": true
   },
   "outputs": [
    {
     "name": "stdout",
     "output_type": "stream",
     "text": [
      "Itration: 0, LR: 0.000100, R: 3.000000, J: 5.871316\n",
      "Itration: 1, LR: 0.000096, R: 2.882368, J: 5.782735\n",
      "Itration: 2, LR: 0.000092, R: 2.769349, J: 4.526142\n",
      "Itration: 3, LR: 0.000089, R: 2.660761, J: 4.405594\n",
      "Itration: 4, LR: 0.000085, R: 2.556431, J: 4.119116\n",
      "Itration: 5, LR: 0.000082, R: 2.456192, J: 3.998893\n",
      "Itration: 6, LR: 0.000079, R: 2.359884, J: 3.926038\n",
      "Itration: 7, LR: 0.000076, R: 2.267351, J: 3.754877\n",
      "Itration: 8, LR: 0.000073, R: 2.178447, J: 3.770675\n",
      "Itration: 9, LR: 0.000070, R: 2.093029, J: 3.620154\n",
      "Itration: 10, LR: 0.000067, R: 2.010960, J: 3.515940\n",
      "Itration: 11, LR: 0.000064, R: 1.932109, J: 3.307013\n",
      "Itration: 12, LR: 0.000062, R: 1.856350, J: 1.929445\n",
      "Itration: 13, LR: 0.000059, R: 1.783562, J: 1.789718\n",
      "Itration: 14, LR: 0.000057, R: 1.713627, J: 1.708896\n",
      "Itration: 15, LR: 0.000055, R: 1.646435, J: 1.587027\n",
      "Itration: 16, LR: 0.000053, R: 1.581877, J: 1.700166\n",
      "Itration: 17, LR: 0.000051, R: 1.519851, J: 1.483073\n",
      "Itration: 18, LR: 0.000049, R: 1.460257, J: 1.545019\n",
      "Itration: 19, LR: 0.000047, R: 1.402999, J: 1.449377\n",
      "Itration: 20, LR: 0.000045, R: 1.347987, J: 1.450457\n",
      "Itration: 21, LR: 0.000043, R: 1.295132, J: 1.420341\n",
      "Itration: 22, LR: 0.000041, R: 1.244349, J: 1.320269\n",
      "Itration: 23, LR: 0.000040, R: 1.195557, J: 1.270060\n",
      "Itration: 24, LR: 0.000038, R: 1.148679, J: 1.238762\n",
      "defaultdict(<class 'list'>, {})\n",
      "purity:0.4335154217762913\n"
     ]
    }
   ],
   "source": [
    "som_shape = (4,4)\n",
    "som = SOM(map_size = [som_shape[0], som_shape[1], org_dataset.shape[1]], lr= 0.0001, radius= 3)\n",
    "Js = som.train(org_dataset, T=25)\n",
    "             \n",
    "purity , deads = som.purity(org_dataset, labels)\n",
    "print('purity:' + str(purity))\n"
   ]
  },
  {
   "cell_type": "code",
   "execution_count": 357,
   "metadata": {
    "scrolled": true
   },
   "outputs": [
    {
     "data": {
      "image/png": "[encoded data removed]",
      "text/plain": [
       "<Figure size 432x288 with 1 Axes>"
      ]
     },
     "metadata": {
      "needs_background": "light"
     },
     "output_type": "display_data"
    }
   ],
   "source": [
    "plt.title('number of neuron: 10*10 , radius:3 ')\n",
    "plt.xlabel('iteration')\n",
    "plt.ylabel('difference between map weights')\n",
    "plt.plot(Js)\n",
    "plt.show()"
   ]
  },
  {
   "cell_type": "markdown",
   "metadata": {},
   "source": [
    "# Question 4"
   ]
  },
  {
   "cell_type": "code",
   "execution_count": 358,
   "metadata": {},
   "outputs": [],
   "source": [
    "def plot_hex_map(d_matrix, titles=[], colormap=cm.gray, shape=[1, 1], comp_width=5, hex_shrink=1.0, fig=None,\n",
    "                 colorbar=True):\n",
    "    \n",
    "\n",
    "    d_matrix = np.flip(d_matrix, axis=0)\n",
    "\n",
    "    def create_grid_coordinates(x, y):\n",
    "        coordinates = [x for row in -1 * np.array(list(range(x))) for x in\n",
    "                       list(zip(np.arange(((row) % 2) * 0.5, y + ((row) % 2) * 0.5), [0.8660254 * (row)] * y))]\n",
    "        return (np.array(list(reversed(coordinates))), x, y)\n",
    "\n",
    "    if d_matrix.ndim < 3:\n",
    "        d_matrix = np.expand_dims(d_matrix, 2)\n",
    "\n",
    "    if len(titles) != d_matrix.shape[2]:\n",
    "        titles = [\"\"] * d_matrix.shape[2]\n",
    "\n",
    "    n_centers, x, y = create_grid_coordinates(*d_matrix.shape[:2])\n",
    "\n",
    "    # Size of figure in inches\n",
    "    if fig is None:\n",
    "        xinch, yinch = comp_width * shape[1], comp_width * (x / y) * shape[0]\n",
    "        fig = plt.figure(figsize=(xinch, yinch), dpi=72.)\n",
    "\n",
    "    for comp, title in zip(range(d_matrix.shape[2]), titles):\n",
    "        ax = fig.add_subplot(shape[0], shape[1], comp + 1, aspect='equal')\n",
    "\n",
    "        # Get pixel size between two data points\n",
    "        xpoints = n_centers[:, 0]\n",
    "        ypoints = n_centers[:, 1]\n",
    "        ax.scatter(xpoints, ypoints, s=0.0, marker='s')\n",
    "        ax.axis([min(xpoints) - 1., max(xpoints) + 1.,\n",
    "                 min(ypoints) - 1., max(ypoints) + 1.])\n",
    "        xy_pixels = ax.transData.transform(np.vstack([xpoints, ypoints]).T)\n",
    "        xpix, ypix = xy_pixels.T\n",
    "\n",
    "        # discover radius and hexagon\n",
    "        apothem = hex_shrink * (xpix[1] - xpix[0]) / math.sqrt(3)\n",
    "        area_inner_circle = math.pi * (apothem ** 2)\n",
    "        dm = d_matrix[:, :, comp].reshape(np.multiply(*d_matrix.shape[:2]))\n",
    "        collection_bg = RegularPolyCollection(\n",
    "            numsides=6,  # a hexagon\n",
    "            rotation=0,\n",
    "            sizes=(area_inner_circle,),\n",
    "            array=dm,\n",
    "            cmap=colormap,\n",
    "            offsets=n_centers,\n",
    "            transOffset=ax.transData,\n",
    "        )\n",
    "        ax.add_collection(collection_bg, autolim=True)\n",
    "\n",
    "        ax.axis('off')\n",
    "        ax.autoscale_view()\n",
    "        #, fontdict={\"fontsize\": 3 * comp_width})\n",
    "        divider = make_axes_locatable(ax)\n",
    "        cax = divider.append_axes(\"right\", size=\"5%\", pad=0.05)\n",
    "        cbar = plt.colorbar(collection_bg, cax=cax)\n",
    "        if not colorbar:\n",
    "            cbar.remove()\n",
    "\n",
    "        #cbar.ax.tick_params(labelsize=3 * comp_width)\n",
    "\n",
    "    return ax, list(reversed(n_centers))"
   ]
  },
  {
   "cell_type": "code",
   "execution_count": 359,
   "metadata": {
    "scrolled": true
   },
   "outputs": [
    {
     "data": {
      "image/png": "[encoded data removed]",
      "text/plain": [
       "<Figure size 720x720 with 2 Axes>"
      ]
     },
     "metadata": {
      "needs_background": "light"
     },
     "output_type": "display_data"
    }
   ],
   "source": [
    "mp = som.distance_map()\n",
    "ax,L = plot_hex_map(mp, comp_width=10, colormap='RdBu')"
   ]
  },
  {
   "cell_type": "code",
   "execution_count": 360,
   "metadata": {},
   "outputs": [
    {
     "name": "stdout",
     "output_type": "stream",
     "text": [
      "defaultdict(<class 'list'>, {})\n"
     ]
    },
    {
     "data": {
      "image/png": "[encoded data removed]",
      "text/plain": [
       "<Figure size 2880x2880 with 9 Axes>"
      ]
     },
     "metadata": {},
     "output_type": "display_data"
    }
   ],
   "source": [
    "import matplotlib.pyplot as plt\n",
    "from matplotlib.gridspec import GridSpec\n",
    "\n",
    "label = labels\n",
    "labels_map = som.labels_map(org_dataset, label)\n",
    "#labels_map = label_map\n",
    "label_names = np.unique(label)\n",
    "\n",
    "plt.figure(figsize=(40, 40))\n",
    "the_grid = GridSpec(40, 40)\n",
    "for position in labels_map.keys():\n",
    "    label_fracs = [labels_map[position][l] for l in label_names]\n",
    "    #print(label_fracs)\n",
    "    plt.subplot(the_grid[6-position[1], position[0]], aspect=1)\n",
    "    patches, texts = plt.pie(label_fracs)\n",
    "plt.legend(patches, label_names, bbox_to_anchor=(0., 6.5), ncol=3)\n",
    "\n",
    "plt.show()"
   ]
  },
  {
   "cell_type": "code",
   "execution_count": 361,
   "metadata": {},
   "outputs": [
    {
     "name": "stdout",
     "output_type": "stream",
     "text": [
      "defaultdict(<class 'list'>, {})\n"
     ]
    },
    {
     "data": {
      "text/plain": [
       "<Figure size 2160x2160 with 0 Axes>"
      ]
     },
     "metadata": {},
     "output_type": "display_data"
    },
    {
     "data": {
      "image/png": "[encoded data removed]",
      "text/plain": [
       "<Figure size 288x288 with 2 Axes>"
      ]
     },
     "metadata": {
      "needs_background": "light"
     },
     "output_type": "display_data"
    }
   ],
   "source": [
    "label = labels\n",
    "labels_map = som.labels_map(org_dataset, label)\n",
    "label_names = np.unique(label)\n",
    "\n",
    "plt.figure(figsize=(30, 30))\n",
    "the_grid = GridSpec(30, 30)\n",
    "total = []\n",
    "for position in labels_map.keys():\n",
    "\n",
    "    label_fracs = [labels_map[position][l] for l in label_names]\n",
    "    total.append(label_fracs)\n",
    "    \n",
    "    \n",
    "matrix_label = np.zeros((4,4))\n",
    "\n",
    "\n",
    "for i, position in enumerate(labels_map.keys()):\n",
    "\n",
    "    p_x = position[0]\n",
    "    p_y = position[1]\n",
    "    matrix_label[p_x][p_y] = max(total[i])\n",
    "\n",
    "ax, centr = plot_hex_map(matrix_label,'label-matrix', comp_width=4, colormap='Set3')"
   ]
  },
  {
   "cell_type": "markdown",
   "metadata": {},
   "source": [
    "# Question 5"
   ]
  },
  {
   "cell_type": "code",
   "execution_count": 331,
   "metadata": {},
   "outputs": [],
   "source": [
    "inp_features = []\n",
    "for i in range(org_dataset.shape[0]):\n",
    "    feature = np.reshape(som.feature_extraction(org_dataset[i, :]).flatten(),(1, som_shape[0] * som_shape[1]))\n",
    "    inp_features.append(feature)\n",
    "    \n",
    "inp_data = np.array(inp_features)\n",
    "inp_data = np.reshape(inp_data, (inp_data.shape[0], inp_data.shape[2]))"
   ]
  },
  {
   "cell_type": "code",
   "execution_count": 332,
   "metadata": {},
   "outputs": [],
   "source": [
    "int_labels = []\n",
    "for el in labels:\n",
    "    if el == 'centerlight':\n",
    "        int_labels.append(0)\n",
    "    elif el ==  'glasses':\n",
    "        int_labels.append(1)\n",
    "        \n",
    "    elif el ==  'happy':\n",
    "        int_labels.append(2)\n",
    "\n",
    "    elif el ==  'leftlight':\n",
    "        int_labels.append(3)\n",
    "        \n",
    "    elif el ==   'noglasses':\n",
    "        int_labels.append(4)\n",
    "        \n",
    "    elif el ==  'normal':\n",
    "        int_labels.append(5)\n",
    "        \n",
    "    elif el ==  'rightlight':\n",
    "        int_labels.append(6)\n",
    "        \n",
    "    elif el ==  'sad':\n",
    "        int_labels.append(7)\n",
    "        \n",
    "    elif el ==  'sleepy':\n",
    "        int_labels.append(8)\n",
    "        \n",
    "    elif el ==  'surprised':\n",
    "        int_labels.append(9)\n",
    "        \n",
    "    elif el ==  'wink':\n",
    "        int_labels.append(10)"
   ]
  },
  {
   "cell_type": "code",
   "execution_count": 333,
   "metadata": {},
   "outputs": [],
   "source": [
    "X_train, X_test, Y_train, Y_test = train_test_split(inp_data,int_labels, test_size = .1, random_state = 7)\n",
    "x_train, x_test, y_train, y_test = train_test_split(org_dataset,int_labels, test_size = .1, random_state = 7)"
   ]
  },
  {
   "cell_type": "code",
   "execution_count": 335,
   "metadata": {},
   "outputs": [],
   "source": [
    "def log_confusion_matrix(epoch, logs):\n",
    "\n",
    "    pred = model.predict([X_test, Y_test])\n",
    "  # Calculate the confusion matrix.\n",
    "  #cm = confusion_matrix(test_labels, test_pred)\n",
    "    cm = confusion_matrix(Y_test, pred.round())\n",
    "  # Log the confusion matrix as an image summary.\n",
    "    figure = plot_confusion_matrix(cm, class_names = class_names)\n",
    "    m_image = plot_to_image(figure)\n",
    "\n",
    "  # Log the confusion matrix as an image summary.\n",
    "    with file_writer_cm.as_default():\n",
    "        tf.summary.image(\"Confusion Matrix\", cm_image, step=epoch)"
   ]
  },
  {
   "cell_type": "code",
   "execution_count": 336,
   "metadata": {},
   "outputs": [],
   "source": [
    "def plot_confusion_matrix(cm, class_names):\n",
    "    \n",
    "    figure = plt.figure(figsize=(8, 8))\n",
    "    plt.imshow(cm, interpolation='nearest', cmap=plt.cm.Blues)\n",
    "    plt.title(\"Confusion matrix\")\n",
    "    plt.colorbar()\n",
    "    tick_marks = np.arange(len(class_names))\n",
    "    plt.xticks(tick_marks, class_names, rotation=45)\n",
    "    plt.yticks(tick_marks, class_names)\n",
    "\n",
    "    # Normalize the confusion matrix.\n",
    "    cm = np.around(cm.astype('float') / cm.sum(axis=1)[:, np.newaxis], decimals=2)\n",
    "\n",
    "    # Use white text if squares are dark; otherwise black.\n",
    "    threshold = cm.max() / 2.\n",
    "    for i, j in itertools.product(range(cm.shape[0]), range(cm.shape[1])):\n",
    "        color = \"white\" if cm[i, j] > threshold else \"black\"\n",
    "        plt.text(j, i, cm[i, j], horizontalalignment=\"center\", color=color)\n",
    "\n",
    "    plt.tight_layout()\n",
    "    plt.ylabel('True label')\n",
    "    plt.xlabel('Predicted label')\n",
    "    return figure"
   ]
  },
  {
   "cell_type": "code",
   "execution_count": 337,
   "metadata": {},
   "outputs": [],
   "source": [
    "tb_callback = keras.callbacks.TensorBoard(log_dir = \"./logs\", histogram_freq = 1)\n",
    "cm_callback = keras.callbacks.LambdaCallback(on_epoch_end=log_confusion_matrix)"
   ]
  },
  {
   "cell_type": "markdown",
   "metadata": {},
   "source": [
    "# with dimension reduction"
   ]
  },
  {
   "cell_type": "code",
   "execution_count": 338,
   "metadata": {},
   "outputs": [],
   "source": [
    "all_dists = []\n",
    "for i in range(org_dataset.shape[0]):\n",
    "    x = org_dataset[i]     \n",
    "    rep_x = np.tile(x, [som.get_weights().shape[0], som.get_weights().shape[1], 1])\n",
    "    dists = np.sum((som.get_weights() - rep_x)**2, axis = 2)\n",
    "    all_dists.append(np.ravel(dists))\n",
    "    \n",
    "all_dists = np.array(all_dists)"
   ]
  },
  {
   "cell_type": "code",
   "execution_count": 339,
   "metadata": {},
   "outputs": [],
   "source": [
    "inp = keras.Input(shape = (all_dists.shape[1] ,), name = \"input_layer\")\n",
    "x = keras.layers.Dense(units = 1024, input_dim = all_dists.shape[1], activation = \"relu\", name = \"hidden_layer1\")(inp)\n",
    "x = keras.layers.Dense(units = 11, activation = \"softmax\", name = \"output_layer\")(x)\n",
    "model = keras.Model(inputs = inp, outputs = x)\n",
    "\n",
    "optimizer = keras.optimizers.Adam(learning_rate= 0.0001)\n",
    "\n",
    "model.compile(optimizer= optimizer,\n",
    "             loss= \"sparse_categorical_crossentropy\",\n",
    "             metrics= ['accuracy'])"
   ]
  },
  {
   "cell_type": "code",
   "execution_count": 340,
   "metadata": {
    "scrolled": true
   },
   "outputs": [
    {
     "name": "stdout",
     "output_type": "stream",
     "text": [
      "Epoch 1/10\n",
      "4/4 [==============================] - 0s 40ms/step - loss: 433116358.4000 - accuracy: 0.1322 - val_loss: 467038496.0000 - val_accuracy: 0.1000\n",
      "Epoch 2/10\n",
      "4/4 [==============================] - 0s 11ms/step - loss: 315851891.2000 - accuracy: 0.0901 - val_loss: 291446272.0000 - val_accuracy: 0.0333\n",
      "Epoch 3/10\n",
      "4/4 [==============================] - 0s 13ms/step - loss: 202904860.8000 - accuracy: 0.0714 - val_loss: 233770992.0000 - val_accuracy: 0.0000e+00\n",
      "Epoch 4/10\n",
      "4/4 [==============================] - 0s 12ms/step - loss: 155408419.2000 - accuracy: 0.0824 - val_loss: 169316624.0000 - val_accuracy: 0.1333\n",
      "Epoch 5/10\n",
      "4/4 [==============================] - 0s 12ms/step - loss: 116854019.2000 - accuracy: 0.0733 - val_loss: 106615032.0000 - val_accuracy: 0.1000\n",
      "Epoch 6/10\n",
      "4/4 [==============================] - 0s 13ms/step - loss: 66812916.0000 - accuracy: 0.0949 - val_loss: 60678236.0000 - val_accuracy: 0.0000e+00\n",
      "Epoch 7/10\n",
      "4/4 [==============================] - 0s 12ms/step - loss: 49815123.2000 - accuracy: 0.0701 - val_loss: 54289844.0000 - val_accuracy: 0.1000\n",
      "Epoch 8/10\n",
      "4/4 [==============================] - 0s 12ms/step - loss: 54027872.0000 - accuracy: 0.1101 - val_loss: 36800600.0000 - val_accuracy: 0.0333\n",
      "Epoch 9/10\n",
      "4/4 [==============================] - 0s 10ms/step - loss: 48165121.6000 - accuracy: 0.0369 - val_loss: 39134636.0000 - val_accuracy: 0.1000\n",
      "Epoch 10/10\n",
      "4/4 [==============================] - 0s 10ms/step - loss: 38001488.8000 - accuracy: 0.0492 - val_loss: 36607404.0000 - val_accuracy: 0.1333\n"
     ]
    },
    {
     "data": {
      "text/plain": [
       "<tensorflow.python.keras.callbacks.History at 0x1f7a367c1d0>"
      ]
     },
     "execution_count": 340,
     "metadata": {},
     "output_type": "execute_result"
    }
   ],
   "source": [
    "x_train, x_test, y_train, y_test = train_test_split(all_dists,int_labels, test_size = .1, random_state = 7)\n",
    "y_train= np.array(y_train)\n",
    "model.fit(x_train, y_train, epochs= 10, validation_split= .2)"
   ]
  },
  {
   "cell_type": "code",
   "execution_count": 341,
   "metadata": {
    "scrolled": true
   },
   "outputs": [
    {
     "name": "stdout",
     "output_type": "stream",
     "text": [
      "1/1 - 0s - loss: 34168504.0000 - accuracy: 0.1765\n"
     ]
    },
    {
     "data": {
      "text/plain": [
       "[34168504.0, 0.1764705926179886]"
      ]
     },
     "execution_count": 341,
     "metadata": {},
     "output_type": "execute_result"
    }
   ],
   "source": [
    "y_test= np.array(y_test)\n",
    "model.evaluate(x_test, y_test, verbose=2)"
   ]
  },
  {
   "cell_type": "markdown",
   "metadata": {},
   "source": [
    "# without dimension reduction"
   ]
  },
  {
   "cell_type": "code",
   "execution_count": 325,
   "metadata": {},
   "outputs": [],
   "source": [
    "inp = keras.Input(shape = (org_dataset.shape[1],), name = \"input_layer\")\n",
    "x = keras.layers.Dense(units = 1024, input_dim = org_dataset.shape[1], activation = \"relu\", name = \"hidden_layer1\")(inp)\n",
    "x = keras.layers.Dense(units = 11, activation = \"softmax\", name = \"output_layer\")(x)\n",
    "model = keras.Model(inputs = inp, outputs = x)\n",
    "\n",
    "optimizer = keras.optimizers.Adam(learning_rate= 0.0001)\n",
    "\n",
    "model.compile(optimizer= optimizer,\n",
    "             loss= \"sparse_categorical_crossentropy\",\n",
    "             metrics= ['accuracy'])"
   ]
  },
  {
   "cell_type": "code",
   "execution_count": 326,
   "metadata": {},
   "outputs": [
    {
     "name": "stdout",
     "output_type": "stream",
     "text": [
      "Epoch 1/10\n",
      "4/4 [==============================] - 2s 493ms/step - loss: 3562.1562 - accuracy: 0.0439 - val_loss: 7252.9707 - val_accuracy: 0.1000\n",
      "Epoch 2/10\n",
      "4/4 [==============================] - 2s 434ms/step - loss: 10590.7076 - accuracy: 0.0544 - val_loss: 6416.2983 - val_accuracy: 0.1333\n",
      "Epoch 3/10\n",
      "4/4 [==============================] - 2s 452ms/step - loss: 9434.0717 - accuracy: 0.1087 - val_loss: 4875.3906 - val_accuracy: 0.1667\n",
      "Epoch 4/10\n",
      "4/4 [==============================] - 2s 429ms/step - loss: 5181.8892 - accuracy: 0.1660 - val_loss: 2465.1960 - val_accuracy: 0.1333\n",
      "Epoch 5/10\n",
      "4/4 [==============================] - 2s 451ms/step - loss: 2579.6227 - accuracy: 0.1880 - val_loss: 1753.5779 - val_accuracy: 0.1667\n",
      "Epoch 6/10\n",
      "4/4 [==============================] - 2s 431ms/step - loss: 1215.9810 - accuracy: 0.2078 - val_loss: 1387.6078 - val_accuracy: 0.1333\n",
      "Epoch 7/10\n",
      "4/4 [==============================] - 2s 430ms/step - loss: 1041.5331 - accuracy: 0.2463 - val_loss: 1193.2738 - val_accuracy: 0.0667\n",
      "Epoch 8/10\n",
      "4/4 [==============================] - 2s 428ms/step - loss: 679.9304 - accuracy: 0.2792 - val_loss: 650.0268 - val_accuracy: 0.1667\n",
      "Epoch 9/10\n",
      "4/4 [==============================] - 2s 449ms/step - loss: 410.5626 - accuracy: 0.3164 - val_loss: 693.1257 - val_accuracy: 0.1333\n",
      "Epoch 10/10\n",
      "4/4 [==============================] - 2s 431ms/step - loss: 486.0862 - accuracy: 0.2930 - val_loss: 459.4790 - val_accuracy: 0.1667\n"
     ]
    },
    {
     "data": {
      "text/plain": [
       "<tensorflow.python.keras.callbacks.History at 0x1f7a2eec5f8>"
      ]
     },
     "execution_count": 326,
     "metadata": {},
     "output_type": "execute_result"
    }
   ],
   "source": [
    "x_train, x_test, y_train, y_test = train_test_split(org_dataset,int_labels, test_size = .1, random_state = 7)\n",
    "y_train= np.array(y_train)\n",
    "model.fit(x_train, y_train, epochs= 10, validation_split= .2)"
   ]
  },
  {
   "cell_type": "code",
   "execution_count": 327,
   "metadata": {},
   "outputs": [
    {
     "name": "stdout",
     "output_type": "stream",
     "text": [
      "1/1 - 0s - loss: 610.3569 - accuracy: 0.1176\n"
     ]
    },
    {
     "data": {
      "text/plain": [
       "[610.35693359375, 0.11764705926179886]"
      ]
     },
     "execution_count": 327,
     "metadata": {},
     "output_type": "execute_result"
    }
   ],
   "source": [
    "y_test= np.array(y_test)\n",
    "model.evaluate(x_test, y_test, verbose=2)"
   ]
  }
 ],
 "metadata": {
  "kernelspec": {
   "display_name": "Python 3",
   "language": "python",
   "name": "python3"
  },
  "language_info": {
   "codemirror_mode": {
    "name": "ipython",
    "version": 3
   },
   "file_extension": ".py",
   "mimetype": "text/x-python",
   "name": "python",
   "nbconvert_exporter": "python",
   "pygments_lexer": "ipython3",
   "version": "3.7.3"
  }
 },
 "nbformat": 4,
 "nbformat_minor": 2
}
